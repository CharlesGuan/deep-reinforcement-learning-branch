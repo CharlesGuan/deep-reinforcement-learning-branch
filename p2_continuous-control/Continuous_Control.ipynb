{
 "cells": [
  {
   "cell_type": "markdown",
   "metadata": {},
   "source": [
    "# Continuous Control\n",
    "\n",
    "---\n",
    "\n",
    "You are welcome to use this coding environment to train your agent for the project.  Follow the instructions below to get started!\n",
    "\n",
    "### 1. Start the Environment\n",
    "\n",
    "Run the next code cell to install a few packages.  This line will take a few minutes to run!"
   ]
  },
  {
   "cell_type": "code",
   "execution_count": 1,
   "metadata": {},
   "outputs": [
    {
     "name": "stdout",
     "output_type": "stream",
     "text": [
      "\u001b[31mtensorflow 1.7.1 has requirement numpy>=1.13.3, but you'll have numpy 1.12.1 which is incompatible.\u001b[0m\r\n",
      "\u001b[31mipython 6.5.0 has requirement prompt-toolkit<2.0.0,>=1.0.15, but you'll have prompt-toolkit 3.0.18 which is incompatible.\u001b[0m\r\n"
     ]
    }
   ],
   "source": [
    "!pip -q install ./python"
   ]
  },
  {
   "cell_type": "markdown",
   "metadata": {},
   "source": [
    "The environments corresponding to both versions of the environment are already saved in the Workspace and can be accessed at the file paths provided below.  \n",
    "\n",
    "Please select one of the two options below for loading the environment."
   ]
  },
  {
   "cell_type": "code",
   "execution_count": 2,
   "metadata": {},
   "outputs": [
    {
     "name": "stderr",
     "output_type": "stream",
     "text": [
      "INFO:unityagents:\n",
      "'Academy' started successfully!\n",
      "Unity Academy name: Academy\n",
      "        Number of Brains: 1\n",
      "        Number of External Brains : 1\n",
      "        Lesson number : 0\n",
      "        Reset Parameters :\n",
      "\t\tgoal_speed -> 1.0\n",
      "\t\tgoal_size -> 5.0\n",
      "Unity brain name: ReacherBrain\n",
      "        Number of Visual Observations (per agent): 0\n",
      "        Vector Observation space type: continuous\n",
      "        Vector Observation space size (per agent): 33\n",
      "        Number of stacked Vector Observation: 1\n",
      "        Vector Action space type: continuous\n",
      "        Vector Action space size (per agent): 4\n",
      "        Vector Action descriptions: , , , \n"
     ]
    }
   ],
   "source": [
    "from unityagents import UnityEnvironment\n",
    "import numpy as np\n",
    "\n",
    "# select this option to load version 1 (with a single agent) of the environment\n",
    "#env = UnityEnvironment(file_name='/data/Reacher_One_Linux_NoVis/Reacher_One_Linux_NoVis.x86_64')\n",
    "\n",
    "# select this option to load version 2 (with 20 agents) of the environment\n",
    "env = UnityEnvironment(file_name='/data/Reacher_Linux_NoVis/Reacher.x86_64')"
   ]
  },
  {
   "cell_type": "markdown",
   "metadata": {},
   "source": [
    "Environments contain **_brains_** which are responsible for deciding the actions of their associated agents. Here we check for the first brain available, and set it as the default brain we will be controlling from Python."
   ]
  },
  {
   "cell_type": "code",
   "execution_count": 3,
   "metadata": {},
   "outputs": [],
   "source": [
    "# get the default brain\n",
    "brain_name = env.brain_names[0]\n",
    "brain = env.brains[brain_name]"
   ]
  },
  {
   "cell_type": "markdown",
   "metadata": {},
   "source": [
    "### 2. Examine the State and Action Spaces\n",
    "\n",
    "Run the code cell below to print some information about the environment."
   ]
  },
  {
   "cell_type": "code",
   "execution_count": 4,
   "metadata": {},
   "outputs": [
    {
     "name": "stdout",
     "output_type": "stream",
     "text": [
      "Number of agents: 20\n",
      "Size of each action: 4\n",
      "There are 20 agents. Each observes a state with length: 33\n",
      "The state for the first agent looks like: [  0.00000000e+00  -4.00000000e+00   0.00000000e+00   1.00000000e+00\n",
      "  -0.00000000e+00  -0.00000000e+00  -4.37113883e-08   0.00000000e+00\n",
      "   0.00000000e+00   0.00000000e+00   0.00000000e+00   0.00000000e+00\n",
      "   0.00000000e+00   0.00000000e+00  -1.00000000e+01   0.00000000e+00\n",
      "   1.00000000e+00  -0.00000000e+00  -0.00000000e+00  -4.37113883e-08\n",
      "   0.00000000e+00   0.00000000e+00   0.00000000e+00   0.00000000e+00\n",
      "   0.00000000e+00   0.00000000e+00   5.75471878e+00  -1.00000000e+00\n",
      "   5.55726624e+00   0.00000000e+00   1.00000000e+00   0.00000000e+00\n",
      "  -1.68164849e-01]\n"
     ]
    }
   ],
   "source": [
    "# reset the environment\n",
    "env_info = env.reset(train_mode=True)[brain_name]\n",
    "\n",
    "# number of agents\n",
    "num_agents = len(env_info.agents)\n",
    "print('Number of agents:', num_agents)\n",
    "\n",
    "# size of each action\n",
    "action_size = brain.vector_action_space_size\n",
    "print('Size of each action:', action_size)\n",
    "\n",
    "# examine the state space \n",
    "states = env_info.vector_observations\n",
    "state_size = states.shape[1]\n",
    "print('There are {} agents. Each observes a state with length: {}'.format(states.shape[0], state_size))\n",
    "print('The state for the first agent looks like:', states[0])"
   ]
  },
  {
   "cell_type": "markdown",
   "metadata": {},
   "source": [
    "### 3. Take Random Actions in the Environment\n",
    "\n",
    "In the next code cell, you will learn how to use the Python API to control the agent and receive feedback from the environment.\n",
    "\n",
    "Note that **in this coding environment, you will not be able to watch the agents while they are training**, and you should set `train_mode=True` to restart the environment."
   ]
  },
  {
   "cell_type": "code",
   "execution_count": 5,
   "metadata": {},
   "outputs": [
    {
     "name": "stdout",
     "output_type": "stream",
     "text": [
      "Total score (averaged over agents) this episode: 0.1424999968148768\n"
     ]
    }
   ],
   "source": [
    "env_info = env.reset(train_mode=True)[brain_name]      # reset the environment    \n",
    "states = env_info.vector_observations                  # get the current state (for each agent)\n",
    "scores = np.zeros(num_agents)                          # initialize the score (for each agent)\n",
    "while True:\n",
    "    actions = np.random.randn(num_agents, action_size) # select an action (for each agent)\n",
    "    actions = np.clip(actions, -1, 1)                  # all actions between -1 and 1\n",
    "    env_info = env.step(actions)[brain_name]           # send all actions to tne environment\n",
    "    next_states = env_info.vector_observations         # get next state (for each agent)\n",
    "    rewards = env_info.rewards                         # get reward (for each agent)\n",
    "    dones = env_info.local_done                        # see if episode finished\n",
    "    scores += env_info.rewards                         # update the score (for each agent)\n",
    "    states = next_states                               # roll over states to next time step\n",
    "    if np.any(dones):                                  # exit loop if episode finished\n",
    "        break\n",
    "print('Total score (averaged over agents) this episode: {}'.format(np.mean(scores)))"
   ]
  },
  {
   "cell_type": "markdown",
   "metadata": {},
   "source": [
    "When finished, you can close the environment."
   ]
  },
  {
   "cell_type": "code",
   "execution_count": 6,
   "metadata": {},
   "outputs": [],
   "source": [
    "#env.close()"
   ]
  },
  {
   "cell_type": "markdown",
   "metadata": {},
   "source": [
    "### 4. It's Your Turn!\n",
    "\n",
    "Now it's your turn to train your own agent to solve the environment!  A few **important notes**:\n",
    "- When training the environment, set `train_mode=True`, so that the line for resetting the environment looks like the following:\n",
    "```python\n",
    "env_info = env.reset(train_mode=True)[brain_name]\n",
    "```\n",
    "- To structure your work, you're welcome to work directly in this Jupyter notebook, or you might like to start over with a new file!  You can see the list of files in the workspace by clicking on **_Jupyter_** in the top left corner of the notebook.\n",
    "- In this coding environment, you will not be able to watch the agents while they are training.  However, **_after training the agents_**, you can download the saved model weights to watch the agents on your own machine! "
   ]
  },
  {
   "cell_type": "code",
   "execution_count": 7,
   "metadata": {},
   "outputs": [],
   "source": [
    "from agent import Agent\n",
    "from collections import deque \n",
    "import torch\n",
    "import matplotlib.pyplot as plt\n",
    "import pandas as pd\n",
    "import time"
   ]
  },
  {
   "cell_type": "code",
   "execution_count": 9,
   "metadata": {},
   "outputs": [
    {
     "name": "stdout",
     "output_type": "stream",
     "text": [
      "---Actor---\n",
      "Actor(\n",
      "  (fc1): Linear(in_features=33, out_features=300, bias=True)\n",
      "  (bn1): BatchNorm1d(300, eps=1e-05, momentum=0.1, affine=True, track_running_stats=True)\n",
      "  (fc2): Linear(in_features=300, out_features=200, bias=True)\n",
      "  (fc3): Linear(in_features=200, out_features=4, bias=True)\n",
      ")\n",
      "---Critic---\n",
      "Critic(\n",
      "  (fcs1): Linear(in_features=33, out_features=300, bias=True)\n",
      "  (bn1): BatchNorm1d(300, eps=1e-05, momentum=0.1, affine=True, track_running_stats=True)\n",
      "  (fc2): Linear(in_features=304, out_features=200, bias=True)\n",
      "  (fc3): Linear(in_features=200, out_features=1, bias=True)\n",
      ")\n"
     ]
    }
   ],
   "source": [
    "agent = Agent(state_size=state_size, action_size=action_size,random_seed=0)"
   ]
  },
  {
   "cell_type": "code",
   "execution_count": 10,
   "metadata": {},
   "outputs": [],
   "source": [
    "def ddpg(n_episodes=1000, max_t=1000, print_every=1):\n",
    "    \"\"\"Deep Deterministic Policy Gradient (DDPG)\n",
    "    \n",
    "    Params\n",
    "    ======\n",
    "        n_episodes  (int)   : maximum number of training episodes\n",
    "        max_t       (int)   : maximum number of timesteps per episode\n",
    "        print_every (int)   : interval to display results\n",
    "\n",
    "    \"\"\"\n",
    "    mean_scores = []                               # list of mean scores from each episode\n",
    "    moving_avgs = []                               # list of moving averages\n",
    "    best_score  = -np.inf\n",
    "    scores_window = deque(maxlen=100)              # mean scores from most recent 100 episodes\n",
    "    \n",
    "    for i_episode in range(1, n_episodes+1):\n",
    "        env_info = env.reset(train_mode=True)[brain_name]  # reset the environment    \n",
    "        states = env_info.vector_observations              # get the current state (for each agent)\n",
    "        scores = np.zeros(num_agents)                      # initialize score for each agent\n",
    "        agent.reset()\n",
    "        start_time = time.time()\n",
    "        for t in range(max_t):\n",
    "            actions = agent.act(states, add_noise=True)    # select an action\n",
    "            env_info = env.step(actions)[brain_name]       # send all actions to the environment\n",
    "            next_states = env_info.vector_observations     # get next state (for each agent)\n",
    "            rewards = env_info.rewards                     # get reward (for each agent)\n",
    "            dones = env_info.local_done                    # see if episode finished\n",
    "            # save experience to replay buffer, perform learning step at defined interval\n",
    "            for state, action, reward, next_state, done in zip(states, actions, rewards, next_states, dones):\n",
    "                agent.step(state, action, reward, next_state, done, t)             \n",
    "            states = next_states\n",
    "            scores += rewards        \n",
    "            if np.any(dones):                              # exit loop when episode ends\n",
    "                break\n",
    "\n",
    "        duration = time.time() - start_time\n",
    "        mean_scores.append(np.mean(scores))           # save mean score for the episode\n",
    "        scores_window.append(mean_scores[-1])         # save mean score to window\n",
    "        moving_avgs.append(np.mean(scores_window))    # save moving average\n",
    "                \n",
    "        if i_episode % print_every == 0:\n",
    "            print('\\rEpisode {} ({}s)\\tMean: {:.2f}\\tMoving Avg: {:.2f}'.format(\\\n",
    "                  i_episode, round(duration), mean_scores[-1], moving_avgs[-1]))\n",
    "                  \n",
    "        if moving_avgs[-1] >= 30.0 and i_episode >= 100:\n",
    "            print('\\nEnvironment solved in {:d} episodes!\\tAverage Score: {:.2f}'.format(i_episode-100, moving_avgs[-1]))            \n",
    "            break\n",
    "            \n",
    "    return mean_scores, moving_avgs"
   ]
  },
  {
   "cell_type": "code",
   "execution_count": 11,
   "metadata": {},
   "outputs": [
    {
     "name": "stdout",
     "output_type": "stream",
     "text": [
      "Episode 1 (110s)\tMean: 0.89\tMoving Avg: 0.89\n",
      "Episode 2 (113s)\tMean: 1.55\tMoving Avg: 1.22\n",
      "Episode 3 (113s)\tMean: 1.78\tMoving Avg: 1.40\n",
      "Episode 4 (114s)\tMean: 2.36\tMoving Avg: 1.64\n",
      "Episode 5 (116s)\tMean: 2.27\tMoving Avg: 1.77\n",
      "Episode 6 (116s)\tMean: 3.10\tMoving Avg: 1.99\n",
      "Episode 7 (117s)\tMean: 3.87\tMoving Avg: 2.26\n",
      "Episode 8 (118s)\tMean: 4.22\tMoving Avg: 2.50\n",
      "Episode 9 (121s)\tMean: 4.88\tMoving Avg: 2.77\n",
      "Episode 10 (122s)\tMean: 4.79\tMoving Avg: 2.97\n",
      "Episode 11 (123s)\tMean: 4.61\tMoving Avg: 3.12\n",
      "Episode 12 (125s)\tMean: 6.02\tMoving Avg: 3.36\n",
      "Episode 13 (127s)\tMean: 7.62\tMoving Avg: 3.69\n",
      "Episode 14 (128s)\tMean: 8.72\tMoving Avg: 4.05\n",
      "Episode 15 (130s)\tMean: 9.12\tMoving Avg: 4.39\n",
      "Episode 16 (132s)\tMean: 9.92\tMoving Avg: 4.73\n",
      "Episode 17 (135s)\tMean: 10.52\tMoving Avg: 5.07\n",
      "Episode 18 (137s)\tMean: 10.77\tMoving Avg: 5.39\n",
      "Episode 19 (139s)\tMean: 10.90\tMoving Avg: 5.68\n",
      "Episode 20 (142s)\tMean: 14.05\tMoving Avg: 6.10\n",
      "Episode 21 (143s)\tMean: 13.68\tMoving Avg: 6.46\n",
      "Episode 22 (146s)\tMean: 15.50\tMoving Avg: 6.87\n",
      "Episode 23 (150s)\tMean: 16.80\tMoving Avg: 7.30\n",
      "Episode 24 (159s)\tMean: 17.04\tMoving Avg: 7.71\n",
      "Episode 25 (161s)\tMean: 19.32\tMoving Avg: 8.17\n",
      "Episode 26 (158s)\tMean: 21.62\tMoving Avg: 8.69\n",
      "Episode 27 (159s)\tMean: 22.82\tMoving Avg: 9.21\n",
      "Episode 28 (167s)\tMean: 23.01\tMoving Avg: 9.71\n",
      "Episode 29 (165s)\tMean: 20.90\tMoving Avg: 10.09\n",
      "Episode 30 (168s)\tMean: 24.78\tMoving Avg: 10.58\n",
      "Episode 31 (171s)\tMean: 27.44\tMoving Avg: 11.13\n",
      "Episode 32 (174s)\tMean: 26.90\tMoving Avg: 11.62\n",
      "Episode 33 (176s)\tMean: 27.65\tMoving Avg: 12.10\n",
      "Episode 34 (178s)\tMean: 29.68\tMoving Avg: 12.62\n",
      "Episode 35 (180s)\tMean: 30.17\tMoving Avg: 13.12\n",
      "Episode 36 (183s)\tMean: 33.00\tMoving Avg: 13.67\n",
      "Episode 37 (183s)\tMean: 32.72\tMoving Avg: 14.19\n",
      "Episode 38 (187s)\tMean: 32.60\tMoving Avg: 14.67\n",
      "Episode 39 (193s)\tMean: 33.04\tMoving Avg: 15.14\n",
      "Episode 40 (195s)\tMean: 33.36\tMoving Avg: 15.60\n",
      "Episode 41 (194s)\tMean: 34.17\tMoving Avg: 16.05\n",
      "Episode 42 (199s)\tMean: 33.52\tMoving Avg: 16.47\n",
      "Episode 43 (205s)\tMean: 34.59\tMoving Avg: 16.89\n",
      "Episode 44 (203s)\tMean: 34.66\tMoving Avg: 17.29\n",
      "Episode 45 (205s)\tMean: 35.51\tMoving Avg: 17.70\n",
      "Episode 46 (209s)\tMean: 34.77\tMoving Avg: 18.07\n",
      "Episode 47 (214s)\tMean: 35.31\tMoving Avg: 18.44\n",
      "Episode 48 (213s)\tMean: 34.82\tMoving Avg: 18.78\n",
      "Episode 49 (217s)\tMean: 35.87\tMoving Avg: 19.13\n",
      "Episode 50 (219s)\tMean: 36.29\tMoving Avg: 19.47\n",
      "Episode 51 (219s)\tMean: 36.28\tMoving Avg: 19.80\n",
      "Episode 52 (221s)\tMean: 36.37\tMoving Avg: 20.12\n",
      "Episode 53 (222s)\tMean: 37.03\tMoving Avg: 20.44\n",
      "Episode 54 (220s)\tMean: 37.16\tMoving Avg: 20.75\n",
      "Episode 55 (220s)\tMean: 36.54\tMoving Avg: 21.03\n",
      "Episode 56 (221s)\tMean: 37.65\tMoving Avg: 21.33\n",
      "Episode 57 (220s)\tMean: 38.22\tMoving Avg: 21.63\n",
      "Episode 58 (219s)\tMean: 38.35\tMoving Avg: 21.92\n",
      "Episode 59 (220s)\tMean: 38.44\tMoving Avg: 22.20\n",
      "Episode 60 (219s)\tMean: 38.58\tMoving Avg: 22.47\n",
      "Episode 61 (220s)\tMean: 38.38\tMoving Avg: 22.73\n",
      "Episode 62 (222s)\tMean: 38.68\tMoving Avg: 22.99\n",
      "Episode 63 (222s)\tMean: 38.36\tMoving Avg: 23.23\n",
      "Episode 64 (223s)\tMean: 39.05\tMoving Avg: 23.48\n",
      "Episode 65 (219s)\tMean: 39.16\tMoving Avg: 23.72\n",
      "Episode 66 (220s)\tMean: 38.66\tMoving Avg: 23.95\n",
      "Episode 67 (220s)\tMean: 39.20\tMoving Avg: 24.17\n",
      "Episode 68 (220s)\tMean: 39.13\tMoving Avg: 24.39\n",
      "Episode 69 (222s)\tMean: 39.02\tMoving Avg: 24.61\n",
      "Episode 70 (220s)\tMean: 39.28\tMoving Avg: 24.82\n",
      "Episode 71 (222s)\tMean: 39.04\tMoving Avg: 25.02\n",
      "Episode 72 (225s)\tMean: 38.66\tMoving Avg: 25.21\n",
      "Episode 73 (224s)\tMean: 38.89\tMoving Avg: 25.39\n",
      "Episode 74 (226s)\tMean: 38.66\tMoving Avg: 25.57\n",
      "Episode 75 (223s)\tMean: 38.35\tMoving Avg: 25.74\n",
      "Episode 76 (223s)\tMean: 38.72\tMoving Avg: 25.91\n",
      "Episode 77 (229s)\tMean: 38.72\tMoving Avg: 26.08\n",
      "Episode 78 (225s)\tMean: 37.33\tMoving Avg: 26.22\n",
      "Episode 79 (221s)\tMean: 38.18\tMoving Avg: 26.38\n",
      "Episode 80 (221s)\tMean: 39.08\tMoving Avg: 26.53\n",
      "Episode 81 (221s)\tMean: 38.52\tMoving Avg: 26.68\n",
      "Episode 82 (220s)\tMean: 37.46\tMoving Avg: 26.81\n",
      "Episode 83 (220s)\tMean: 38.07\tMoving Avg: 26.95\n",
      "Episode 84 (221s)\tMean: 36.93\tMoving Avg: 27.07\n",
      "Episode 85 (223s)\tMean: 38.04\tMoving Avg: 27.20\n",
      "Episode 86 (222s)\tMean: 38.31\tMoving Avg: 27.33\n",
      "Episode 87 (221s)\tMean: 39.03\tMoving Avg: 27.46\n",
      "Episode 88 (221s)\tMean: 38.53\tMoving Avg: 27.59\n",
      "Episode 89 (221s)\tMean: 36.19\tMoving Avg: 27.68\n",
      "Episode 90 (222s)\tMean: 30.98\tMoving Avg: 27.72\n",
      "Episode 91 (221s)\tMean: 37.33\tMoving Avg: 27.83\n",
      "Episode 92 (223s)\tMean: 38.30\tMoving Avg: 27.94\n",
      "Episode 93 (221s)\tMean: 37.18\tMoving Avg: 28.04\n",
      "Episode 94 (225s)\tMean: 37.66\tMoving Avg: 28.14\n",
      "Episode 95 (223s)\tMean: 37.85\tMoving Avg: 28.24\n",
      "Episode 96 (221s)\tMean: 37.55\tMoving Avg: 28.34\n",
      "Episode 97 (221s)\tMean: 39.00\tMoving Avg: 28.45\n",
      "Episode 98 (223s)\tMean: 38.29\tMoving Avg: 28.55\n",
      "Episode 99 (220s)\tMean: 38.40\tMoving Avg: 28.65\n",
      "Episode 100 (223s)\tMean: 38.64\tMoving Avg: 28.75\n",
      "Episode 101 (223s)\tMean: 37.58\tMoving Avg: 29.12\n",
      "Episode 102 (223s)\tMean: 37.50\tMoving Avg: 29.48\n",
      "Episode 103 (226s)\tMean: 37.42\tMoving Avg: 29.83\n",
      "Episode 104 (222s)\tMean: 37.60\tMoving Avg: 30.19\n",
      "\n",
      "Environment solved in 4 episodes!\tAverage Score: 30.19\n"
     ]
    }
   ],
   "source": [
    "scores, avgs = ddpg()"
   ]
  },
  {
   "cell_type": "code",
   "execution_count": 12,
   "metadata": {},
   "outputs": [],
   "source": [
    "torch.save(agent.actor_local.state_dict(), 'ck_actor.pth')\n",
    "torch.save(agent.critic_local.state_dict(), 'ck_critic.pth')"
   ]
  },
  {
   "cell_type": "code",
   "execution_count": 13,
   "metadata": {},
   "outputs": [
    {
     "data": {
      "image/png": "[encoded data removed]",
      "text/plain": [
       "<matplotlib.figure.Figure at 0x7f88191926a0>"
      ]
     },
     "metadata": {
      "needs_background": "light"
     },
     "output_type": "display_data"
    }
   ],
   "source": [
    "# plot the scores\n",
    "fig = plt.figure()\n",
    "ax = fig.add_subplot(111)\n",
    "plt.plot(np.arange(len(scores)), scores, label='DDPG')\n",
    "plt.plot(np.arange(len(scores)), avgs, c='r', label='Moving AVG')\n",
    "plt.ylabel('Score')\n",
    "plt.xlabel('Episode #')\n",
    "plt.legend(loc='upper left');\n",
    "plt.show()"
   ]
  },
  {
   "cell_type": "code",
   "execution_count": 14,
   "metadata": {},
   "outputs": [
    {
     "data": {
      "image/png": "[encoded data removed]",
      "text/plain": [
       "<matplotlib.figure.Figure at 0x7f8821edc4a8>"
      ]
     },
     "metadata": {},
     "output_type": "display_data"
    }
   ],
   "source": [
    "# smooth scores curve\n",
    "\n",
    "import seaborn as sns\n",
    "sns.set(style=\"darkgrid\")\n",
    "sns.set_palette(\"Set2\")\n",
    "s = scores[:-4]\n",
    "from scipy.ndimage.filters import gaussian_filter1d\n",
    "ysmoothed2 = gaussian_filter1d(scores, sigma=2)\n",
    "ysmoothed3 = gaussian_filter1d(scores, sigma=10)\n",
    "\n",
    "fig = plt.figure(figsize=(11,11))\n",
    "ax = fig.add_subplot(111)\n",
    "plt.plot(np.arange(len(scores)), scores, linewidth=0.1)\n",
    "plt.plot(np.arange(len(scores)), ysmoothed3, linewidth=2.2)\n",
    "plt.plot(np.arange(len(scores)), ysmoothed2, linewidth=0.9)\n",
    "\n",
    "plt.ylabel('Score')\n",
    "plt.xlabel('Episode #')\n",
    "plt.show()"
   ]
  },
  {
   "cell_type": "code",
   "execution_count": null,
   "metadata": {},
   "outputs": [],
   "source": [
    "env.close()"
   ]
  }
 ],
 "metadata": {
  "kernelspec": {
   "display_name": "Python 3",
   "language": "python",
   "name": "python3"
  },
  "language_info": {
   "codemirror_mode": {
    "name": "ipython",
    "version": 3
   },
   "file_extension": ".py",
   "mimetype": "text/x-python",
   "name": "python",
   "nbconvert_exporter": "python",
   "pygments_lexer": "ipython3",
   "version": "3.6.3"
  }
 },
 "nbformat": 4,
 "nbformat_minor": 2
}
